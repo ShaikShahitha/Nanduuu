{
 "cells": [
  {
   "cell_type": "code",
   "execution_count": null,
   "metadata": {},
   "outputs": [],
   "source": [
    "from random import randint\n",
    "def marksgen(n,lb,ub):\n",
    "    f=open(\"marks.txt\",'w')\n",
    "    for i in range(n):\n",
    "        m=randint(lb,ub)\n",
    "        f.write(str(m)+'\\n')\n",
    "    f.close()\n",
    "    f=open('marks.txt','r')\n",
    "    data=f.readlines()\n",
    "    sum1=0\n",
    "    count=0\n",
    "    countp=0\n",
    "    sum2=0\n",
    "    sum3=0\n",
    "    sum4=0\n",
    "    print(data)\n",
    "    for i in data:\n",
    " \n",
    "        sum1+=int(i)\n",
    "        count+=1\n",
    "        if(int(i)>35):\n",
    "            sum2+=int(i)\n",
    "        if(int(i)>35):\n",
    "            sum3+=int(i)\n",
    "        if(int(i)>80):\n",
    "            sum4+=int(i)\n",
    "    average=sum1/len(data)\n",
    "    passper=(sum2/sum1)*100\n",
    "    failper=(sum3/sum1)*100\n",
    "    distintion=(sum4/sum1)*100\n",
    "    print(\"Average is:\",average)\n",
    "    print(\"Pass percentage:\",passper)\n",
    "    print(\"Fail percentage:\",failper)\n",
    "    print(\"Distintion:\",distintion)\n",
    "n=int(input(\"Enter no.of students:\"))\n",
    "lb=int(input(\"enter lower range:\"))\n",
    "ub=int(input(\"Enter upper range:\"))\n",
    "marksgen(n,lb,ub)"
   ]
  },
  {
   "cell_type": "code",
   "execution_count": null,
   "metadata": {},
   "outputs": [],
   "source": [
    "print(dir(dict))"
   ]
  },
  {
   "cell_type": "code",
   "execution_count": null,
   "metadata": {},
   "outputs": [],
   "source": [
    "dir1={'a':1,'b':2}\n",
    "print(dir1.popitem())\n"
   ]
  },
  {
   "cell_type": "code",
   "execution_count": null,
   "metadata": {},
   "outputs": [],
   "source": [
    "d={'clg':'vignan','branch':'cse','year':'2'}\n",
    "d.setdefault('clg')"
   ]
  },
  {
   "cell_type": "code",
   "execution_count": null,
   "metadata": {},
   "outputs": [],
   "source": [
    "d.setdefault('year')"
   ]
  },
  {
   "cell_type": "code",
   "execution_count": null,
   "metadata": {},
   "outputs": [],
   "source": [
    "d"
   ]
  },
  {
   "cell_type": "code",
   "execution_count": null,
   "metadata": {},
   "outputs": [],
   "source": [
    "d.setdefault('prog','python')"
   ]
  },
  {
   "cell_type": "code",
   "execution_count": null,
   "metadata": {},
   "outputs": [],
   "source": [
    "d"
   ]
  },
  {
   "cell_type": "code",
   "execution_count": null,
   "metadata": {},
   "outputs": [],
   "source": [
    "d={'a':1,'b':10,'c':56336}\n",
    "d1={'a':2}\n",
    "d.update(d1)\n",
    "print(d)"
   ]
  },
  {
   "cell_type": "code",
   "execution_count": null,
   "metadata": {},
   "outputs": [],
   "source": [
    "# fromkeys\n",
    "t=('key1','key2')\n",
    "d=dict.fromkeys(t)\n",
    "d"
   ]
  },
  {
   "cell_type": "code",
   "execution_count": null,
   "metadata": {},
   "outputs": [],
   "source": [
    "t1=('key1','key2')\n",
    "d1=dict.fromkeys(t,10)\n",
    "d1"
   ]
  },
  {
   "cell_type": "code",
   "execution_count": null,
   "metadata": {},
   "outputs": [],
   "source": [
    "['__class__', '__contains__', '__delattr__', '__delitem__', '__dir__', '__doc__', '__eq__', '__format__', '__ge__', '__getattribute__', '__getitem__', '__gt__', '__hash__', '__init__', '__init_subclass__', '__iter__', '__le__', '__len__', '__lt__', '__ne__', '__new__', '__reduce__', '__reduce_ex__', '__repr__', '__reversed__', '__setattr__', '__setitem__', '__sizeof__', '__str__', '__subclasshook__', 'clear', 'copy', 'fromkeys', 'get', 'items', 'keys', 'pop', 'popitem', 'setdefault', 'update', 'values']"
   ]
  },
  {
   "cell_type": "markdown",
   "metadata": {},
   "source": [
    "### SETS\n",
    "* REPRESENTED BY {}\n",
    "* DOESNT ALLOW DUPLICATES\n",
    "* UN-ORDERED AND UN-INDEXED"
   ]
  },
  {
   "cell_type": "code",
   "execution_count": null,
   "metadata": {},
   "outputs": [],
   "source": [
    "K={}\n",
    "print(type(K))"
   ]
  },
  {
   "cell_type": "code",
   "execution_count": null,
   "metadata": {},
   "outputs": [],
   "source": [
    "s=set()\n",
    "print(type(s))"
   ]
  },
  {
   "cell_type": "code",
   "execution_count": null,
   "metadata": {},
   "outputs": [],
   "source": [
    "l={1,2,3,4,3,4,2,1}\n",
    "set(l)"
   ]
  },
  {
   "cell_type": "code",
   "execution_count": null,
   "metadata": {},
   "outputs": [],
   "source": [
    "l[0]"
   ]
  },
  {
   "cell_type": "code",
   "execution_count": null,
   "metadata": {},
   "outputs": [],
   "source": [
    "l={1,2,3,4,3,4,2,1}\n",
    "print(l)"
   ]
  },
  {
   "cell_type": "code",
   "execution_count": null,
   "metadata": {},
   "outputs": [],
   "source": [
    "for i in l: \n",
    "    print(l)"
   ]
  },
  {
   "cell_type": "code",
   "execution_count": null,
   "metadata": {},
   "outputs": [],
   "source": [
    "print(l)\n",
    "8 in l"
   ]
  },
  {
   "cell_type": "code",
   "execution_count": null,
   "metadata": {},
   "outputs": [],
   "source": [
    "print(l)\n",
    "3 in l"
   ]
  },
  {
   "cell_type": "code",
   "execution_count": null,
   "metadata": {},
   "outputs": [],
   "source": [
    "4 in l"
   ]
  },
  {
   "cell_type": "code",
   "execution_count": null,
   "metadata": {},
   "outputs": [],
   "source": [
    "print(dir(l))"
   ]
  },
  {
   "cell_type": "code",
   "execution_count": null,
   "metadata": {},
   "outputs": [],
   "source": [
    "# add\n",
    "k={1,2,3,4}\n",
    "k.add(5)\n",
    "k"
   ]
  },
  {
   "cell_type": "code",
   "execution_count": null,
   "metadata": {
    "scrolled": true
   },
   "outputs": [],
   "source": [
    "k.update({6,7,8,9,2.2})\n",
    "k"
   ]
  },
  {
   "cell_type": "markdown",
   "metadata": {},
   "source": [
    "* **POP**\n",
    "* **REMOVE**\n",
    "* **DISCARD**"
   ]
  },
  {
   "cell_type": "code",
   "execution_count": null,
   "metadata": {},
   "outputs": [],
   "source": [
    "k={1, 2, 2.2, 3, 4, 5, 6, 7, 8, 9}\n",
    "k.pop()\n"
   ]
  },
  {
   "cell_type": "code",
   "execution_count": null,
   "metadata": {},
   "outputs": [],
   "source": [
    "k"
   ]
  },
  {
   "cell_type": "code",
   "execution_count": null,
   "metadata": {},
   "outputs": [],
   "source": [
    "k.remove(5)"
   ]
  },
  {
   "cell_type": "code",
   "execution_count": null,
   "metadata": {},
   "outputs": [],
   "source": [
    "k"
   ]
  },
  {
   "cell_type": "code",
   "execution_count": null,
   "metadata": {},
   "outputs": [],
   "source": [
    "k"
   ]
  },
  {
   "cell_type": "markdown",
   "metadata": {},
   "source": [
    "### DIFFERENCE\n",
    " * **VARIABLE = SET1.DIFFERENCE(SET2)**\n",
    "### DIFFERENCE_UPDATE\n",
    " * **SET1 DIFFERENCE_UPDATE(SET2)**"
   ]
  },
  {
   "cell_type": "code",
   "execution_count": null,
   "metadata": {},
   "outputs": [],
   "source": [
    "s1={1,2,3,4,5,6,7}\n",
    "s2={1,2,3,7}\n",
    "a=s1.difference(s2)\n",
    "b=s2.difference(s1)\n",
    "print(a)\n",
    "print(b)"
   ]
  },
  {
   "cell_type": "code",
   "execution_count": null,
   "metadata": {},
   "outputs": [],
   "source": [
    "s1={1,2,3,4,5,6,7}\n",
    "s2={1,2,3,4}\n",
    "s1.difference_update(s2)\n",
    "s1"
   ]
  },
  {
   "cell_type": "code",
   "execution_count": null,
   "metadata": {},
   "outputs": [],
   "source": [
    "s1={1,2,3,4,5,6,7}\n",
    "s2={1,2,3,7}\n",
    "a=s1.intersection(s2)\n",
    "print(a)"
   ]
  },
  {
   "cell_type": "code",
   "execution_count": null,
   "metadata": {},
   "outputs": [],
   "source": [
    "s1={1,2,3,4,5,6,7}\n",
    "s2={1,2,3,7}\n",
    "s2.intersection_update(s1)\n",
    "s2"
   ]
  },
  {
   "cell_type": "code",
   "execution_count": null,
   "metadata": {},
   "outputs": [],
   "source": [
    "s1={1,2,3,4,5,6,7}\n",
    "s2={1,2,3,7}\n",
    "a=s1.symmetric_difference(s2)\n",
    "print(a)"
   ]
  },
  {
   "cell_type": "code",
   "execution_count": null,
   "metadata": {},
   "outputs": [],
   "source": [
    "s1={1,2,3,4,5,6,7}\n",
    "s2={1,2,3,7}\n",
    "s1.symmetric_difference(s2)\n",
    "s1"
   ]
  },
  {
   "cell_type": "code",
   "execution_count": null,
   "metadata": {},
   "outputs": [],
   "source": [
    "s1={1,2,3,4,5,6,7}\n",
    "s2={1,2,3,7}\n",
    "s1.issubset(s2)"
   ]
  },
  {
   "cell_type": "code",
   "execution_count": null,
   "metadata": {},
   "outputs": [],
   "source": [
    "s1={1,2,3,7}\n",
    "s2={1,2,3,7}\n",
    "s1.issubset(s2)"
   ]
  },
  {
   "cell_type": "code",
   "execution_count": null,
   "metadata": {},
   "outputs": [],
   "source": [
    "s1={1,2,3,4,5,6,7}\n",
    "s2={1,2,3,7}\n",
    "s1.issuperset(s2)"
   ]
  },
  {
   "cell_type": "code",
   "execution_count": null,
   "metadata": {},
   "outputs": [],
   "source": [
    "s1={1,2,3,4,5,6,7}\n",
    "s2={1,2,3,7}\n",
    "s2.issuperset(s1)"
   ]
  },
  {
   "cell_type": "code",
   "execution_count": null,
   "metadata": {},
   "outputs": [],
   "source": [
    "s1={1,2,3,4,5,6,7}\n",
    "s2={1,2,3,7}\n",
    "s2.isdisjoint(s1)"
   ]
  },
  {
   "cell_type": "code",
   "execution_count": null,
   "metadata": {},
   "outputs": [],
   "source": [
    "s1={4,5,6,9}\n",
    "s2={1,2,3,7}\n",
    "s1.isdisjoint(s2)"
   ]
  },
  {
   "cell_type": "code",
   "execution_count": null,
   "metadata": {},
   "outputs": [],
   "source": [
    "s1={1,2,3,4,5,6,7}\n",
    "s2={1,2,3,7}\n",
    "s1.symmetric_difference_update(s2)\n",
    "s1"
   ]
  },
  {
   "cell_type": "code",
   "execution_count": null,
   "metadata": {},
   "outputs": [],
   "source": [
    "n=int(input())\n",
    "for i in range(0,n+1):\n",
    "    for j in range(0,i):\n",
    "        print(\"*\",end=\" \")\n",
    "    print()  \n",
    "        "
   ]
  },
  {
   "cell_type": "code",
   "execution_count": null,
   "metadata": {},
   "outputs": [],
   "source": [
    "n=int(input())\n",
    "for i in range(n,0,-1):\n",
    "    for j in range(1,i+1):\n",
    "        print(\"*\",end=\" \")\n",
    "    print() "
   ]
  },
  {
   "cell_type": "code",
   "execution_count": null,
   "metadata": {},
   "outputs": [],
   "source": [
    "n=int(input())\n",
    "for i in range(0,n):\n",
    "    for j in range(0,i+1):\n",
    "        print(j+1,end=\" \")\n",
    "        \n",
    "    print()  \n",
    "        "
   ]
  },
  {
   "cell_type": "code",
   "execution_count": null,
   "metadata": {},
   "outputs": [],
   "source": [
    "n=int(input())\n",
    "k=1\n",
    "for i in range(0,n):\n",
    "    for j in range(0,i+1):\n",
    "        print(k,end=\" \")\n",
    "        k=k+1\n",
    "    print() \n"
   ]
  },
  {
   "cell_type": "code",
   "execution_count": null,
   "metadata": {},
   "outputs": [],
   "source": [
    "n=int(input())\n",
    "for i in range(n,0,-1):\n",
    "    for j in range(1,i+1):\n",
    "        print(j,end=\" \")\n",
    "        \n",
    "    print() "
   ]
  },
  {
   "cell_type": "code",
   "execution_count": null,
   "metadata": {},
   "outputs": [],
   "source": [
    "n=int(input())\n",
    "k=1\n",
    "for i in range(n,0,-1):\n",
    "    for j in range(1,i+1):\n",
    "        print(k,end=\" \")\n",
    "        k=k+1\n",
    "    print() "
   ]
  },
  {
   "cell_type": "code",
   "execution_count": null,
   "metadata": {},
   "outputs": [],
   "source": [
    "n=int(input())\n",
    "k=65\n",
    "for i in range(0,n):\n",
    "    for j in range(0,i+1):\n",
    "        ch=chr(k)\n",
    "        print(ch,end=\" \")\n",
    "        k=k+1\n",
    "    print() "
   ]
  },
  {
   "cell_type": "code",
   "execution_count": null,
   "metadata": {},
   "outputs": [],
   "source": [
    "n=int(input())\n",
    "k=65\n",
    "for i in range(n,0,-1):\n",
    "    for j in range(1,i+1):\n",
    "        ch=chr(k)\n",
    "        print(ch,end=\" \")\n",
    "        k=k+1\n",
    "    print() "
   ]
  },
  {
   "cell_type": "code",
   "execution_count": null,
   "metadata": {},
   "outputs": [],
   "source": [
    "n=int(input())\n",
    "k= 2*n-1\n",
    "for i in range(0,n):\n",
    "    for j in range(0,k):\n",
    "        k=k-1\n",
    "    for j in range(0,i+1):\n",
    "        print(\"$\",end=\"\")\n",
    "    print()"
   ]
  },
  {
   "cell_type": "code",
   "execution_count": null,
   "metadata": {},
   "outputs": [],
   "source": [
    "n=int(input())\n",
    "k=65\n",
    "for i in range(0,n):\n",
    "    for j in range(0,i+1):\n",
    "        ch=chr(k)\n",
    "        print(ch,end=\" \")\n",
    "    k=k+1\n",
    "    print() "
   ]
  },
  {
   "cell_type": "code",
   "execution_count": null,
   "metadata": {},
   "outputs": [],
   "source": [
    "n=int(input())\n",
    "k=1\n",
    "for i in range(0,n):\n",
    "    for j in range(0,i+1):\n",
    "        print(k,end=\" \")\n",
    "    k=k+1\n",
    "    print() "
   ]
  },
  {
   "cell_type": "code",
   "execution_count": null,
   "metadata": {},
   "outputs": [],
   "source": []
  },
  {
   "cell_type": "code",
   "execution_count": null,
   "metadata": {},
   "outputs": [],
   "source": []
  },
  {
   "cell_type": "markdown",
   "metadata": {},
   "source": [
    "### OBJECT ORIENTED PROGAMMING LANGUAGE\n",
    "* **CLASS**\n",
    "    * COLLECTION OF VARIABLES AND METHODS\n",
    "        * **SYNTAX**\n",
    "            * CLASS CLASSNAME:\n",
    "                * DOCUMENTATION --> BY DEFAULT IT IS AVAILABLE\n",
    "                * VARIABLES\n",
    "                * METHODS\n",
    "        * **RULES**\n",
    "            * SHOULD BE CAPITAL\n",
    "            * DOESNT ALLOW SPACES\n",
    "            * DOSENT ALLOW KEYWORDS\n",
    "* **OBJECT**\n",
    "* **INHERITANCE**\n",
    "* **PACKAGES AND MODULES USING OOPS**"
   ]
  },
  {
   "cell_type": "code",
   "execution_count": null,
   "metadata": {},
   "outputs": [],
   "source": [
    "class Example:\n",
    "    '''basic example'''\n",
    "    a=10\n",
    "    def exmp():\n",
    "        print(\"From example function...\")\n",
    "print(Example.a)\n",
    "print (Example.exmp())\n",
    "print(Example.__doc__)"
   ]
  },
  {
   "cell_type": "code",
   "execution_count": null,
   "metadata": {},
   "outputs": [],
   "source": [
    "class Example:\n",
    "    a=10\n",
    "    def exmp():\n",
    "        return 'from example function'\n",
    "        #print(\"From example function...\")\n",
    "print (Example.a)\n",
    "print (Example.exmp())\n",
    "print(Example.__doc__)"
   ]
  },
  {
   "cell_type": "code",
   "execution_count": null,
   "metadata": {},
   "outputs": [],
   "source": [
    "class factorial:\n",
    "    def fact(n):\n",
    "        fact=1\n",
    "        for i in range(1,n+1):\n",
    "            fact=fact*i\n",
    "        return fact\n",
    "print(factorial.fact(5))"
   ]
  },
  {
   "cell_type": "code",
   "execution_count": null,
   "metadata": {},
   "outputs": [],
   "source": [
    "def fact(n):\n",
    "        fact=1\n",
    "        for i in range(1,n+1):\n",
    "            fact=fact*i\n",
    "        return fact\n",
    "print(fact(5))"
   ]
  },
  {
   "cell_type": "code",
   "execution_count": null,
   "metadata": {},
   "outputs": [],
   "source": [
    "class factorial:\n",
    "    def fact(self,n):\n",
    "        fact=1\n",
    "        for i in range(1,n+1):\n",
    "            fact=fact*i\n",
    "        print(fact)\n",
    "n= factorial()\n",
    "n.fact(5)"
   ]
  },
  {
   "cell_type": "code",
   "execution_count": null,
   "metadata": {},
   "outputs": [],
   "source": [
    "class A:\n",
    "    def perfect(self,a):\n",
    "        sum=0\n",
    "        for i in range(1,a):\n",
    "            if a%i==0:\n",
    "                sum+=i\n",
    "        if sum==a:\n",
    "            print(\"Perfect number\")\n",
    "        else:\n",
    "            print(\"Not a perfect number\")\n",
    "a=A()\n",
    "a.perfect(4)"
   ]
  },
  {
   "cell_type": "code",
   "execution_count": null,
   "metadata": {},
   "outputs": [],
   "source": [
    "class A:\n",
    "    def perfect(a):\n",
    "        sum=0\n",
    "        for i in range(1,a):\n",
    "            if a%i==0:\n",
    "                sum+=i\n",
    "        if sum==a:\n",
    "            return \"Perfect number\"\n",
    "        else:\n",
    "            return \"Not a perfect number\"\n",
    "(a.perfect(4))"
   ]
  },
  {
   "cell_type": "code",
   "execution_count": null,
   "metadata": {},
   "outputs": [],
   "source": [
    "class A:\n",
    "    def prime(self,a):\n",
    "        count=0\n",
    "        for i in range(1,a+1):\n",
    "            if a%i==0:\n",
    "                count+=1\n",
    "        if count==2:\n",
    "            return \"Prime number\"\n",
    "        else:\n",
    "            return \"Not a prime\"\n",
    "a=A()        \n",
    "a.prime(3)"
   ]
  },
  {
   "cell_type": "code",
   "execution_count": null,
   "metadata": {},
   "outputs": [],
   "source": [
    "class nonpacrons():\n",
    "    def __init__ (self):\n",
    "        print(\"using only self\")\n",
    "    def show(selp,name):\n",
    "        print(\"welcome...\",name)\n",
    "np=nonpacrons()\n",
    "np.show('vignan')"
   ]
  },
  {
   "cell_type": "code",
   "execution_count": null,
   "metadata": {},
   "outputs": [],
   "source": [
    "# parametrized constructor\n",
    "class paracons:\n",
    "    def __init__(self,a,b):\n",
    "        self.a=a\n",
    "        self.b=b\n",
    "    def add(self):\n",
    "        return self.a+self.b\n",
    "pc=paracons(56489,515645)\n",
    "pc.add()"
   ]
  },
  {
   "cell_type": "code",
   "execution_count": null,
   "metadata": {},
   "outputs": [],
   "source": [
    "class paracons:\n",
    "    def __init__(abc,a,b):\n",
    "        abc.a=a\n",
    "        abc.b=b\n",
    "    def add(abc):\n",
    "        return abc.a+abc.b\n",
    "pc=paracons(10,1)\n",
    "pc.add()"
   ]
  },
  {
   "cell_type": "code",
   "execution_count": 6,
   "metadata": {},
   "outputs": [
    {
     "name": "stdout",
     "output_type": "stream",
     "text": [
      "from first cons\n"
     ]
    }
   ],
   "source": [
    "class Multicons():\n",
    "    def __init__(self):\n",
    "        print('from first cons')\n",
    "m=Multicons()"
   ]
  },
  {
   "cell_type": "code",
   "execution_count": 8,
   "metadata": {},
   "outputs": [
    {
     "name": "stdout",
     "output_type": "stream",
     "text": [
      "from second\n"
     ]
    }
   ],
   "source": [
    "class Multicons():\n",
    "    def __init__(self):\n",
    "        print(\"form first\")\n",
    "    def __init__(self):\n",
    "        print('from second')\n",
    "m=Multicons()"
   ]
  },
  {
   "cell_type": "code",
   "execution_count": 11,
   "metadata": {},
   "outputs": [
    {
     "name": "stdout",
     "output_type": "stream",
     "text": [
      "from class C\n",
      "from child class\n",
      "from parent class\n"
     ]
    }
   ],
   "source": [
    "# Multi level inheritance\n",
    "class A():\n",
    "    a=1\n",
    "    def ca():\n",
    "        return 'from parent class'\n",
    "class B(A):\n",
    "    b=2\n",
    "    def cb():\n",
    "        return 'from child class'\n",
    "class C(B):\n",
    "    c=4\n",
    "    def cc():\n",
    "        return 'from class C'\n",
    "obj1=C\n",
    "print(obj1.cc())\n",
    "print(obj1.cb())\n",
    "print(obj1.ca())"
   ]
  },
  {
   "cell_type": "code",
   "execution_count": 18,
   "metadata": {},
   "outputs": [
    {
     "name": "stdout",
     "output_type": "stream",
     "text": [
      "from child class\n",
      "from parent class\n"
     ]
    }
   ],
   "source": [
    "# single inheritance\n",
    "class A():\n",
    "    a=1\n",
    "    def ca():\n",
    "        return 'from parent class'\n",
    "class B(A):\n",
    "    b=2\n",
    "    def cb():\n",
    "        return 'from child class'\n",
    "obj=B\n",
    "print(obj.cb())\n",
    "print(obj.ca())    "
   ]
  },
  {
   "cell_type": "code",
   "execution_count": 4,
   "metadata": {},
   "outputs": [
    {
     "name": "stdout",
     "output_type": "stream",
     "text": [
      "parent class\n",
      "child 2 class\n"
     ]
    }
   ],
   "source": [
    "# hierarichal inheritance\n",
    "class A:\n",
    "    a=1\n",
    "    def aa(self):\n",
    "        return 'parent class'\n",
    "class B(A):\n",
    "    b=2\n",
    "    def ba(self):\n",
    "        return 'child 1 class'\n",
    "class C(A):\n",
    "    c=3\n",
    "    def ca(self):\n",
    "        return 'child 2 class'\n",
    "obj=C()\n",
    "print(obj.aa())\n",
    "print(obj.ca())"
   ]
  },
  {
   "cell_type": "code",
   "execution_count": null,
   "metadata": {},
   "outputs": [],
   "source": []
  }
 ],
 "metadata": {
  "kernelspec": {
   "display_name": "Python 3",
   "language": "python",
   "name": "python3"
  },
  "language_info": {
   "codemirror_mode": {
    "name": "ipython",
    "version": 3
   },
   "file_extension": ".py",
   "mimetype": "text/x-python",
   "name": "python",
   "nbconvert_exporter": "python",
   "pygments_lexer": "ipython3",
   "version": "3.8.5"
  }
 },
 "nbformat": 4,
 "nbformat_minor": 4
}
