{
 "cells": [
  {
   "cell_type": "code",
   "execution_count": 6,
   "metadata": {},
   "outputs": [
    {
     "name": "stdout",
     "output_type": "stream",
     "text": [
      "Enter no.of students:50\n",
      "enter lower range:2\n",
      "Enter upper range:99\n",
      "['42\\n', '42\\n', '57\\n', '64\\n', '14\\n', '21\\n', '35\\n', '93\\n', '20\\n', '89\\n', '67\\n', '80\\n', '61\\n', '70\\n', '13\\n', '2\\n', '18\\n', '34\\n', '96\\n', '55\\n', '47\\n', '55\\n', '33\\n', '8\\n', '39\\n', '36\\n', '20\\n', '75\\n', '28\\n', '29\\n', '64\\n', '45\\n', '69\\n', '87\\n', '9\\n', '83\\n', '58\\n', '41\\n', '50\\n', '33\\n', '54\\n', '23\\n', '72\\n', '70\\n', '31\\n', '91\\n', '89\\n', '11\\n', '44\\n', '91\\n']\n",
      "Average is: 49.16\n",
      "Pass percentage: 84.45890968266883\n",
      "Fail percentage: 84.45890968266883\n",
      "Distintion: 29.251423921887714\n"
     ]
    }
   ],
   "source": [
    "from random import randint\n",
    "def marksgen(n,lb,ub):\n",
    "    f=open(\"marks.txt\",'w')\n",
    "    for i in range(n):\n",
    "        m=randint(lb,ub)\n",
    "        f.write(str(m)+'\\n')\n",
    "    f.close()\n",
    "    f=open('marks.txt','r')\n",
    "    data=f.readlines()\n",
    "    sum1=0\n",
    "    count=0\n",
    "    countp=0\n",
    "    sum2=0\n",
    "    sum3=0\n",
    "    sum4=0\n",
    "    print(data)\n",
    "    for i in data:\n",
    " \n",
    "        sum1+=int(i)\n",
    "        count+=1\n",
    "        if(int(i)>35):\n",
    "            sum2+=int(i)\n",
    "        if(int(i)>35):\n",
    "            sum3+=int(i)\n",
    "        if(int(i)>80):\n",
    "            sum4+=int(i)\n",
    "    average=sum1/len(data)\n",
    "    passper=(sum2/sum1)*100\n",
    "    failper=(sum3/sum1)*100\n",
    "    distintion=(sum4/sum1)*100\n",
    "    print(\"Average is:\",average)\n",
    "    print(\"Pass percentage:\",passper)\n",
    "    print(\"Fail percentage:\",failper)\n",
    "    print(\"Distintion:\",distintion)\n",
    "n=int(input(\"Enter no.of students:\"))\n",
    "lb=int(input(\"enter lower range:\"))\n",
    "ub=int(input(\"Enter upper range:\"))\n",
    "marksgen(n,lb,ub)"
   ]
  },
  {
   "cell_type": "code",
   "execution_count": 10,
   "metadata": {},
   "outputs": [
    {
     "name": "stdout",
     "output_type": "stream",
     "text": [
      "['__class__', '__contains__', '__delattr__', '__delitem__', '__dir__', '__doc__', '__eq__', '__format__', '__ge__', '__getattribute__', '__getitem__', '__gt__', '__hash__', '__init__', '__init_subclass__', '__iter__', '__le__', '__len__', '__lt__', '__ne__', '__new__', '__reduce__', '__reduce_ex__', '__repr__', '__reversed__', '__setattr__', '__setitem__', '__sizeof__', '__str__', '__subclasshook__', 'clear', 'copy', 'fromkeys', 'get', 'items', 'keys', 'pop', 'popitem', 'setdefault', 'update', 'values']\n"
     ]
    }
   ],
   "source": [
    "print(dir(dict))"
   ]
  },
  {
   "cell_type": "code",
   "execution_count": 11,
   "metadata": {},
   "outputs": [
    {
     "name": "stdout",
     "output_type": "stream",
     "text": [
      "('b', 2)\n"
     ]
    }
   ],
   "source": [
    "dir1={'a':1,'b':2}\n",
    "print(dir1.popitem())\n"
   ]
  },
  {
   "cell_type": "code",
   "execution_count": 13,
   "metadata": {},
   "outputs": [
    {
     "data": {
      "text/plain": [
       "'vignan'"
      ]
     },
     "execution_count": 13,
     "metadata": {},
     "output_type": "execute_result"
    }
   ],
   "source": [
    "d={'clg':'vignan','branch':'cse','year':'2'}\n",
    "d.setdefault('clg')"
   ]
  },
  {
   "cell_type": "code",
   "execution_count": 15,
   "metadata": {},
   "outputs": [
    {
     "data": {
      "text/plain": [
       "'2'"
      ]
     },
     "execution_count": 15,
     "metadata": {},
     "output_type": "execute_result"
    }
   ],
   "source": [
    "d.setdefault('year')"
   ]
  },
  {
   "cell_type": "code",
   "execution_count": 16,
   "metadata": {},
   "outputs": [
    {
     "data": {
      "text/plain": [
       "{'clg': 'vignan', 'branch': 'cse', 'year': '2'}"
      ]
     },
     "execution_count": 16,
     "metadata": {},
     "output_type": "execute_result"
    }
   ],
   "source": [
    "d"
   ]
  },
  {
   "cell_type": "code",
   "execution_count": 17,
   "metadata": {},
   "outputs": [
    {
     "data": {
      "text/plain": [
       "'python'"
      ]
     },
     "execution_count": 17,
     "metadata": {},
     "output_type": "execute_result"
    }
   ],
   "source": [
    "d.setdefault('prog','python')"
   ]
  },
  {
   "cell_type": "code",
   "execution_count": 18,
   "metadata": {},
   "outputs": [
    {
     "data": {
      "text/plain": [
       "{'clg': 'vignan', 'branch': 'cse', 'year': '2', 'prog': 'python'}"
      ]
     },
     "execution_count": 18,
     "metadata": {},
     "output_type": "execute_result"
    }
   ],
   "source": [
    "d"
   ]
  },
  {
   "cell_type": "code",
   "execution_count": 28,
   "metadata": {},
   "outputs": [
    {
     "name": "stdout",
     "output_type": "stream",
     "text": [
      "{'a': 2, 'b': 10, 'c': 56336}\n"
     ]
    }
   ],
   "source": [
    "d={'a':1,'b':10,'c':56336}\n",
    "d1={'a':2}\n",
    "d.update(d1)\n",
    "print(d)"
   ]
  },
  {
   "cell_type": "code",
   "execution_count": null,
   "metadata": {},
   "outputs": [],
   "source": []
  },
  {
   "cell_type": "code",
   "execution_count": null,
   "metadata": {},
   "outputs": [],
   "source": []
  }
 ],
 "metadata": {
  "kernelspec": {
   "display_name": "Python 3",
   "language": "python",
   "name": "python3"
  },
  "language_info": {
   "codemirror_mode": {
    "name": "ipython",
    "version": 3
   },
   "file_extension": ".py",
   "mimetype": "text/x-python",
   "name": "python",
   "nbconvert_exporter": "python",
   "pygments_lexer": "ipython3",
   "version": "3.8.5"
  }
 },
 "nbformat": 4,
 "nbformat_minor": 4
}
