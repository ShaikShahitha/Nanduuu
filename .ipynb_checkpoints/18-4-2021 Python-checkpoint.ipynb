{
 "cells": [
  {
   "cell_type": "markdown",
   "metadata": {},
   "source": [
    "### PACKAGES AND MODULES\n",
    "* **PACKAGE**\n",
    "        * COLLECTION OF MODULES(FOLDER)\n",
    "* **MODULES**\n",
    "        * PYTHON FILES CONTAIN FUNCTION,OBJECTS AND CLASSES\n",
    "        * ACCES USING IMPORT\n",
    "* **PACKAGES ARE OF TWO TYPES**\n",
    "    * **BIULT IN**\n",
    "        * PANDAS\n",
    "        * NUMPY\n",
    "        * MATPLOT LIB\n",
    "        * REGULAR EXPRESSION\n",
    "    * **USERDEFINED**\n",
    "        * DEFINED FOR OUR PURPOSE\n",
    "* **MODULES TYPES**\n",
    "    * MATH\n",
    "    * TIME\n",
    "    * CALENDER\n",
    "    * RANDOM\n",
    "        "
   ]
  },
  {
   "cell_type": "code",
   "execution_count": null,
   "metadata": {
    "scrolled": true
   },
   "outputs": [],
   "source": [
    "import math\n",
    "print(dir(math))"
   ]
  },
  {
   "cell_type": "code",
   "execution_count": null,
   "metadata": {},
   "outputs": [],
   "source": [
    "import random\n",
    "print(dir(random))"
   ]
  },
  {
   "cell_type": "code",
   "execution_count": null,
   "metadata": {},
   "outputs": [],
   "source": [
    "random.randint(00000,99999)"
   ]
  },
  {
   "cell_type": "code",
   "execution_count": null,
   "metadata": {},
   "outputs": [],
   "source": [
    "math.factorial(5)"
   ]
  },
  {
   "cell_type": "code",
   "execution_count": null,
   "metadata": {},
   "outputs": [],
   "source": [
    "random.randrange(1,100)"
   ]
  },
  {
   "cell_type": "code",
   "execution_count": null,
   "metadata": {},
   "outputs": [],
   "source": [
    "s=\"python program\"\n",
    "random.choice(s)"
   ]
  },
  {
   "cell_type": "code",
   "execution_count": null,
   "metadata": {},
   "outputs": [],
   "source": [
    "l=[1,5,7,9]\n",
    "random.shuffle(l)"
   ]
  },
  {
   "cell_type": "code",
   "execution_count": null,
   "metadata": {},
   "outputs": [],
   "source": [
    "import calendar\n",
    "print(dir(calendar))"
   ]
  },
  {
   "cell_type": "code",
   "execution_count": null,
   "metadata": {},
   "outputs": [],
   "source": [
    "import random\n",
    "s=['1','2']\n",
    "random.shuffle(s)\n",
    "print(s)"
   ]
  },
  {
   "cell_type": "code",
   "execution_count": null,
   "metadata": {},
   "outputs": [],
   "source": [
    "import calendar\n",
    "print(calendar.leapdays(2000,2021))"
   ]
  },
  {
   "cell_type": "code",
   "execution_count": null,
   "metadata": {},
   "outputs": [],
   "source": [
    "import calendar\n",
    "print(calendar.isleap(2012))"
   ]
  },
  {
   "cell_type": "code",
   "execution_count": null,
   "metadata": {},
   "outputs": [],
   "source": [
    "import calendar\n",
    "print(calendar.isleap(2021))"
   ]
  },
  {
   "cell_type": "code",
   "execution_count": null,
   "metadata": {},
   "outputs": [],
   "source": [
    "import calendar\n",
    "print(calendar.calendar(2002))"
   ]
  },
  {
   "cell_type": "code",
   "execution_count": null,
   "metadata": {},
   "outputs": [],
   "source": [
    "l=['1','2','3','4']\n",
    "l1=[]\n",
    "for i in l:\n",
    "    if i not in l:\n",
    "        l.append()\n",
    "print(l)"
   ]
  },
  {
   "cell_type": "code",
   "execution_count": null,
   "metadata": {},
   "outputs": [],
   "source": [
    "def duplicate(l):\n",
    "    l1=[]\n",
    "    for i in l:\n",
    "        if(i not in l1):\n",
    "            l1.append(i)\n",
    "    print(l1)\n",
    "duplicate([1,2,3,4,5,3,4,5])"
   ]
  },
  {
   "cell_type": "code",
   "execution_count": null,
   "metadata": {},
   "outputs": [],
   "source": [
    "from package.module import duplicate\n",
    "l=[1,2,3,4,5,6,2,4,5,3]\n",
    "duplicate(l)"
   ]
  },
  {
   "cell_type": "code",
   "execution_count": null,
   "metadata": {},
   "outputs": [],
   "source": [
    "from package.module import duplicate\n",
    "duplicate([1,2,3,4,1,1,3,2])"
   ]
  },
  {
   "cell_type": "code",
   "execution_count": null,
   "metadata": {},
   "outputs": [],
   "source": [
    "def unique(l):\n",
    "    l1=[]\n",
    "    for i in l:\n",
    "        if(l.count(i)==1):\n",
    "            l1.append(i)\n",
    "    print(l1)\n",
    "unique([1,2,3,1,23,4])"
   ]
  },
  {
   "cell_type": "code",
   "execution_count": 2,
   "metadata": {},
   "outputs": [
    {
     "name": "stdout",
     "output_type": "stream",
     "text": [
      "[12, 2, 3, 4, 5]\n"
     ]
    }
   ],
   "source": [
    "from package.module import unique\n",
    "unique([1,1,12,2,3,4,5])"
   ]
  },
  {
   "cell_type": "markdown",
   "metadata": {},
   "source": [
    "### REGULAR EXPRESSIONS\n",
    "* BUILTIN PACKAGE IN PYTHON\n",
    "* USED TO MATVH SPECIFIC PATTERNS\n",
    "* 3 FUNCTIONS\n",
    "* **MATCH()**\n",
    "        * MATCHES SPECIFIC PATTERN\n",
    "* **SEARCH()** \n",
    "        * RETURNS FIRST OCCURANCE WHILE SEARCHING A CHARACTER OR A SUBSTRING\n",
    "* **FINDALL()**\n",
    "        * RETURNS ALL POSSIBLE OCCURANCE"
   ]
  },
  {
   "cell_type": "code",
   "execution_count": 4,
   "metadata": {},
   "outputs": [
    {
     "data": {
      "text/plain": [
       "<re.Match object; span=(0, 1), match='p'>"
      ]
     },
     "execution_count": 4,
     "metadata": {},
     "output_type": "execute_result"
    }
   ],
   "source": [
    "import re\n",
    "re.search('p','python')"
   ]
  },
  {
   "cell_type": "code",
   "execution_count": 6,
   "metadata": {},
   "outputs": [
    {
     "name": "stdout",
     "output_type": "stream",
     "text": [
      "<re.Match object; span=(9, 10), match='g'>\n"
     ]
    }
   ],
   "source": [
    "print(re.search('g','pythonprogram'))"
   ]
  },
  {
   "cell_type": "code",
   "execution_count": 5,
   "metadata": {},
   "outputs": [
    {
     "name": "stdout",
     "output_type": "stream",
     "text": [
      "None\n"
     ]
    }
   ],
   "source": [
    "import re\n",
    "print(re.search('q','python'))"
   ]
  },
  {
   "cell_type": "code",
   "execution_count": 9,
   "metadata": {},
   "outputs": [
    {
     "data": {
      "text/plain": [
       "['h', 'h', 'h']"
      ]
     },
     "execution_count": 9,
     "metadata": {},
     "output_type": "execute_result"
    }
   ],
   "source": [
    "re.findall('h','shahitha')"
   ]
  },
  {
   "cell_type": "code",
   "execution_count": 10,
   "metadata": {},
   "outputs": [
    {
     "data": {
      "text/plain": [
       "[]"
      ]
     },
     "execution_count": 10,
     "metadata": {},
     "output_type": "execute_result"
    }
   ],
   "source": [
    "(re.findall('q','python'))"
   ]
  },
  {
   "cell_type": "code",
   "execution_count": 11,
   "metadata": {},
   "outputs": [
    {
     "name": "stdout",
     "output_type": "stream",
     "text": [
      "[]\n"
     ]
    }
   ],
   "source": [
    "print((re.findall('q','python')))"
   ]
  },
  {
   "cell_type": "code",
   "execution_count": 15,
   "metadata": {},
   "outputs": [
    {
     "data": {
      "text/plain": [
       "['shahi', 'shahi', 'shahi']"
      ]
     },
     "execution_count": 15,
     "metadata": {},
     "output_type": "execute_result"
    }
   ],
   "source": [
    "re.findall('shahi','shahithashahishaikshahithashahaithashahhiatah')"
   ]
  },
  {
   "cell_type": "markdown",
   "metadata": {},
   "source": [
    "### IMPORTANT POINTS\n",
    "* ^ --> IT MATCHES STARTING CHARACTER\n",
    "* $ --> IT MATCHES END AND CHAR\n",
    "* [0-9] -->NUMBERS\n",
    "* [A-Z] -->CAPITAL LETTERS\n",
    "* [a-z] --> SMALL LETERS\n",
    "* [A-Za-z] --> BOTH LETTERS\n",
    "* [0-9]{4} --> ACCEPTS ONLY 4 DIGITS\n",
    "* + --> MATCHES ANY CHARACTER\n",
    "* [@] --> MATCHES SPECIAL CHARACTER\n",
    "* '+' --> MATCHES MORE OCCURANCES"
   ]
  },
  {
   "cell_type": "code",
   "execution_count": 16,
   "metadata": {},
   "outputs": [
    {
     "data": {
      "text/plain": [
       "['2', '1', '9']"
      ]
     },
     "execution_count": 16,
     "metadata": {},
     "output_type": "execute_result"
    }
   ],
   "source": [
    "# CHECK THE PHONE NUMBER IS VALID OR NOT\n",
    "k='MY FAVORITE NUMBERS ARE 2 AND 19'\n",
    "re.findall('[0-9]',k)"
   ]
  },
  {
   "cell_type": "code",
   "execution_count": 17,
   "metadata": {},
   "outputs": [
    {
     "data": {
      "text/plain": [
       "['2', '19']"
      ]
     },
     "execution_count": 17,
     "metadata": {},
     "output_type": "execute_result"
    }
   ],
   "source": [
    "k='MY FAVORITE NUMBERS ARE 2 AND 19'\n",
    "re.findall('[0-9]+',k)"
   ]
  },
  {
   "cell_type": "code",
   "execution_count": 5,
   "metadata": {},
   "outputs": [
    {
     "name": "stdout",
     "output_type": "stream",
     "text": [
      "enter a number:+919123456789\n",
      "Valid number\n"
     ]
    }
   ],
   "source": [
    "# phone number validation\n",
    "import re\n",
    "k=input('enter a number:')\n",
    "pattern='^[+][9][1][6-9][0-9]{9}$'\n",
    "if re.match(pattern,k):\n",
    "    print(\"Valid number\")\n",
    "else:\n",
    "    print(\"In valid number\")"
   ]
  },
  {
   "cell_type": "code",
   "execution_count": 6,
   "metadata": {},
   "outputs": [
    {
     "name": "stdout",
     "output_type": "stream",
     "text": [
      "enter a email:shaikshahitha1926@gmail.com\n",
      "Valid mail\n"
     ]
    }
   ],
   "source": [
    "# email verification\n",
    "import re\n",
    "k=input(\"enter a email:\")\n",
    "pattern='^[a-z]{0,30}[0-9]{4,9}[@][a-z]{5,10}[.][a-z]{3,5}$'\n",
    "if re.match(pattern,k):\n",
    "    print(\"Valid mail\")\n",
    "else:\n",
    "    print(\"Invalid mail\")"
   ]
  },
  {
   "cell_type": "code",
   "execution_count": 7,
   "metadata": {},
   "outputs": [
    {
     "name": "stdout",
     "output_type": "stream",
     "text": [
      "enter a email:shaikshahitha.19.26@mail.com\n",
      "Invalid mail\n"
     ]
    }
   ],
   "source": [
    "k=input(\"enter a email:\")\n",
    "pattern='^[a-z]{0,30}[0-9]{4,9}[@][a-z]{5,10}[.][a-z]{3,5}$'\n",
    "if re.match(pattern,k):\n",
    "    print(\"Valid mail\")\n",
    "else:\n",
    "    print(\"Invalid mail\")"
   ]
  },
  {
   "cell_type": "markdown",
   "metadata": {},
   "source": [
    "### FILE HANDLING\n",
    "* USED TO STORE INFORMATION\n",
    "* **OPEN FILE**\n",
    "    * OPEN (FILEPATH,MODE)\n",
    "    * WITH OPEN()\n",
    "* **OPERATIONS**\n",
    "    * READ \n",
    "    * WRITE\n",
    "    * APPEND\n",
    "* **CLOSEFILE**"
   ]
  },
  {
   "cell_type": "code",
   "execution_count": 20,
   "metadata": {},
   "outputs": [
    {
     "name": "stdout",
     "output_type": "stream",
     "text": [
      "Hi\n"
     ]
    }
   ],
   "source": [
    "# USING OPEN()\n",
    "f=open(\"datafiles/demo.txt\")\n",
    "fh=f.read()\n",
    "print(fh)"
   ]
  },
  {
   "cell_type": "code",
   "execution_count": 19,
   "metadata": {},
   "outputs": [
    {
     "name": "stdout",
     "output_type": "stream",
     "text": [
      "2\n"
     ]
    }
   ],
   "source": [
    "f=open(\"datafiles/demo.txt\",'w')\n",
    "data=f.write(\"Hi\")\n",
    "print(data)"
   ]
  },
  {
   "cell_type": "code",
   "execution_count": 23,
   "metadata": {},
   "outputs": [
    {
     "name": "stdout",
     "output_type": "stream",
     "text": [
      "Hi\n"
     ]
    }
   ],
   "source": [
    "with open(\"datafiles/demo.txt\") as info:\n",
    "    fh=info.read()\n",
    "    print(fh)"
   ]
  },
  {
   "cell_type": "code",
   "execution_count": 24,
   "metadata": {},
   "outputs": [
    {
     "ename": "FileNotFoundError",
     "evalue": "[Errno 2] No such file or directory: 'datafiles/demo1.txt'",
     "output_type": "error",
     "traceback": [
      "\u001b[1;31m---------------------------------------------------------------------------\u001b[0m",
      "\u001b[1;31mFileNotFoundError\u001b[0m                         Traceback (most recent call last)",
      "\u001b[1;32m<ipython-input-24-46e8d41ae56c>\u001b[0m in \u001b[0;36m<module>\u001b[1;34m\u001b[0m\n\u001b[1;32m----> 1\u001b[1;33m \u001b[1;32mwith\u001b[0m \u001b[0mopen\u001b[0m\u001b[1;33m(\u001b[0m\u001b[1;34m\"datafiles/demo1.txt\"\u001b[0m\u001b[1;33m)\u001b[0m \u001b[1;32mas\u001b[0m \u001b[0minfo\u001b[0m\u001b[1;33m:\u001b[0m\u001b[1;33m\u001b[0m\u001b[1;33m\u001b[0m\u001b[0m\n\u001b[0m\u001b[0;32m      2\u001b[0m     \u001b[0mfh\u001b[0m\u001b[1;33m=\u001b[0m\u001b[0minfo\u001b[0m\u001b[1;33m.\u001b[0m\u001b[0mread\u001b[0m\u001b[1;33m(\u001b[0m\u001b[1;33m)\u001b[0m\u001b[1;33m\u001b[0m\u001b[1;33m\u001b[0m\u001b[0m\n\u001b[0;32m      3\u001b[0m     \u001b[0mprint\u001b[0m\u001b[1;33m(\u001b[0m\u001b[0mfh\u001b[0m\u001b[1;33m)\u001b[0m\u001b[1;33m\u001b[0m\u001b[1;33m\u001b[0m\u001b[0m\n",
      "\u001b[1;31mFileNotFoundError\u001b[0m: [Errno 2] No such file or directory: 'datafiles/demo1.txt'"
     ]
    }
   ],
   "source": [
    "# demo for an error\n",
    "with open(\"datafiles/demo1.txt\") as info:\n",
    "    fh=info.read()\n",
    "    print(fh)"
   ]
  },
  {
   "cell_type": "code",
   "execution_count": 27,
   "metadata": {},
   "outputs": [
    {
     "name": "stdout",
     "output_type": "stream",
     "text": [
      "HELLOO....\n"
     ]
    }
   ],
   "source": [
    "f=open(\"datafiles/demo1.txt\",'w')\n",
    "data=f.write(\"HELLOO....\")\n",
    "f=open(\"datafiles/demo1.txt\",'r')\n",
    "data=f.read()\n",
    "print(data)"
   ]
  },
  {
   "cell_type": "code",
   "execution_count": 32,
   "metadata": {},
   "outputs": [
    {
     "name": "stdout",
     "output_type": "stream",
     "text": [
      "23\n"
     ]
    }
   ],
   "source": [
    "f=open(\"datafiles/charcount.txt\",'r')\n",
    "data=f.read()\n",
    "count=0\n",
    "for i in data:\n",
    "    if (i.isspace()):\n",
    "        pass\n",
    "    else:\n",
    "        count+=1\n",
    "print(count)"
   ]
  },
  {
   "cell_type": "code",
   "execution_count": 31,
   "metadata": {},
   "outputs": [
    {
     "name": "stdout",
     "output_type": "stream",
     "text": [
      "23\n",
      "welcome carona from vignan\n"
     ]
    }
   ],
   "source": [
    "f=open(\"datafiles/charcount.txt\",'r')\n",
    "data=f.read()\n",
    "count=0\n",
    "for i in data:\n",
    "    if (i.isspace()):\n",
    "        pass\n",
    "    else:\n",
    "        count+=1\n",
    "print(count)\n",
    "print(data)"
   ]
  },
  {
   "cell_type": "code",
   "execution_count": 41,
   "metadata": {},
   "outputs": [
    {
     "name": "stdout",
     "output_type": "stream",
     "text": [
      "welcome carona from vignan\n"
     ]
    }
   ],
   "source": [
    "with open(\"datafiles/charcount.txt\") as x:\n",
    "    fh=x.read()\n",
    "print(data)"
   ]
  },
  {
   "cell_type": "code",
   "execution_count": 49,
   "metadata": {},
   "outputs": [
    {
     "data": {
      "text/plain": [
       "str"
      ]
     },
     "execution_count": 49,
     "metadata": {},
     "output_type": "execute_result"
    }
   ],
   "source": [
    "type(fh)"
   ]
  },
  {
   "cell_type": "code",
   "execution_count": 50,
   "metadata": {},
   "outputs": [
    {
     "data": {
      "text/plain": [
       "_io.TextIOWrapper"
      ]
     },
     "execution_count": 50,
     "metadata": {},
     "output_type": "execute_result"
    }
   ],
   "source": [
    "type(x)"
   ]
  },
  {
   "cell_type": "code",
   "execution_count": null,
   "metadata": {},
   "outputs": [],
   "source": []
  },
  {
   "cell_type": "code",
   "execution_count": null,
   "metadata": {},
   "outputs": [],
   "source": []
  },
  {
   "cell_type": "code",
   "execution_count": null,
   "metadata": {},
   "outputs": [],
   "source": []
  }
 ],
 "metadata": {
  "kernelspec": {
   "display_name": "Python 3",
   "language": "python",
   "name": "python3"
  },
  "language_info": {
   "codemirror_mode": {
    "name": "ipython",
    "version": 3
   },
   "file_extension": ".py",
   "mimetype": "text/x-python",
   "name": "python",
   "nbconvert_exporter": "python",
   "pygments_lexer": "ipython3",
   "version": "3.8.5"
  }
 },
 "nbformat": 4,
 "nbformat_minor": 4
}
