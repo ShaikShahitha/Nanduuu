{
 "cells": [
  {
   "cell_type": "markdown",
   "metadata": {},
   "source": [
    "## LOOPS\n",
    "* for\n",
    "* while"
   ]
  },
  {
   "cell_type": "markdown",
   "metadata": {},
   "source": [
    "## Syntax of for\n",
    "* for i in range(arg):--> when input is in integer value\n",
    "* for i in variable_name:-->when input is in string values\n",
    "    "
   ]
  },
  {
   "cell_type": "code",
   "execution_count": 1,
   "metadata": {},
   "outputs": [
    {
     "name": "stdout",
     "output_type": "stream",
     "text": [
      "0\n",
      "1\n",
      "2\n",
      "3\n",
      "4\n",
      "5\n",
      "6\n",
      "7\n",
      "8\n",
      "9\n"
     ]
    }
   ],
   "source": [
    "# print first 10 numbers(single parameter)\n",
    "for i in range(10):\n",
    "    print(i)"
   ]
  },
  {
   "cell_type": "code",
   "execution_count": 3,
   "metadata": {},
   "outputs": [
    {
     "name": "stdout",
     "output_type": "stream",
     "text": [
      "1\n",
      "2\n",
      "3\n",
      "4\n",
      "5\n",
      "6\n",
      "7\n",
      "8\n",
      "9\n",
      "10\n"
     ]
    }
   ],
   "source": [
    "# print Numbers(Double parameter)\n",
    "for i in range(1,11):\n",
    "    print(i)"
   ]
  },
  {
   "cell_type": "code",
   "execution_count": 4,
   "metadata": {},
   "outputs": [
    {
     "name": "stdout",
     "output_type": "stream",
     "text": [
      "1\n",
      "4\n",
      "7\n",
      "10\n"
     ]
    }
   ],
   "source": [
    "# print step count\n",
    "for i in range(1,11,3):\n",
    "    print(i)"
   ]
  },
  {
   "cell_type": "code",
   "execution_count": 9,
   "metadata": {},
   "outputs": [
    {
     "name": "stdout",
     "output_type": "stream",
     "text": [
      "Enter a value1\n",
      "Enter b value11\n",
      "2\n",
      "4\n",
      "6\n",
      "8\n",
      "10\n"
     ]
    }
   ],
   "source": [
    "a=int(input(\"Enter a value\"))\n",
    "b=int(input(\"Enter b value\"))\n",
    "for i in range(a,b):\n",
    "    if i%2==0:\n",
    "        print(i)"
   ]
  },
  {
   "cell_type": "code",
   "execution_count": 13,
   "metadata": {},
   "outputs": [
    {
     "name": "stdout",
     "output_type": "stream",
     "text": [
      "enter a value10\n",
      "1\n",
      "2\n",
      "3\n",
      "4\n",
      "5\n",
      "6\n",
      "7\n",
      "8\n",
      "9\n",
      "10\n"
     ]
    }
   ],
   "source": [
    "# print N natural Numbers \n",
    "a=int(input(\"enter a value\"))\n",
    "for i in range(1,a+1):\n",
    "    print(i)"
   ]
  },
  {
   "cell_type": "code",
   "execution_count": 19,
   "metadata": {},
   "outputs": [
    {
     "name": "stdout",
     "output_type": "stream",
     "text": [
      "enter a value10\n",
      "1 2 3 4 5 6 7 8 9 10 \n",
      " 55\n",
      "5.5\n"
     ]
    }
   ],
   "source": [
    "# print N natural Numbers \n",
    "a=int(input(\"enter a value\"))\n",
    "sum1=0\n",
    "for i in range(1,a+1):\n",
    "    print(i,end=' ')\n",
    "    sum1 +=i\n",
    "print(\"\\n\",sum1)\n",
    "print(sum1/a)"
   ]
  },
  {
   "cell_type": "code",
   "execution_count": 28,
   "metadata": {},
   "outputs": [
    {
     "name": "stdout",
     "output_type": "stream",
     "text": [
      "enter a value2\n",
      "Enter b value4\n",
      "Sum of even numbers 3\n",
      "Average of even numbers 1.5\n"
     ]
    }
   ],
   "source": [
    "a=int(input(\"enter a value\"))\n",
    "b=int(input(\"Enter b value\"))\n",
    "sum1=0\n",
    "count=0\n",
    "for i in range(1,a+1):\n",
    "        count=count+1\n",
    "        sum1=sum1+i\n",
    "print(\"Sum of even numbers\",sum1)\n",
    "print(\"Average of even numbers\",sum1/count)"
   ]
  },
  {
   "cell_type": "code",
   "execution_count": 27,
   "metadata": {},
   "outputs": [
    {
     "name": "stdout",
     "output_type": "stream",
     "text": [
      "5\n",
      "7\n",
      "Sum is: 18\n",
      "Average is: 6.0\n"
     ]
    }
   ],
   "source": [
    "a=(input())\n",
    "b=(input())\n",
    "sum1=0\n",
    "count=0\n",
    "for i in range(int(a),int(b)+1):\n",
    "        count=count+1\n",
    "        sum1=sum1+int(i)\n",
    "print(\"Sum is:\",sum1)\n",
    "print(\"Average is:\",sum1/count)"
   ]
  },
  {
   "cell_type": "code",
   "execution_count": 3,
   "metadata": {},
   "outputs": [
    {
     "name": "stdout",
     "output_type": "stream",
     "text": [
      "5\n",
      "120\n"
     ]
    }
   ],
   "source": [
    "# print factorial of a number\n",
    "def fact(num):\n",
    "    f=1\n",
    "    for i in range(1,num+1):\n",
    "        f*=i\n",
    "    return f\n",
    "g=int(input())\n",
    "print(fact(g))"
   ]
  },
  {
   "cell_type": "code",
   "execution_count": 4,
   "metadata": {},
   "outputs": [
    {
     "name": "stdout",
     "output_type": "stream",
     "text": [
      "11\n",
      "11 is a prime\n"
     ]
    }
   ],
   "source": [
    "# check the prime or not\n",
    "a=int(input())\n",
    "factor_count=0\n",
    "for i in range(1,a+1):\n",
    "    if a%i==0:\n",
    "        factor_count += 1\n",
    "if factor_count==2:\n",
    "    print(a,\"is a prime\")\n",
    "else:\n",
    "    print(a,\"is not a prime\")"
   ]
  },
  {
   "cell_type": "code",
   "execution_count": 7,
   "metadata": {},
   "outputs": [
    {
     "name": "stdout",
     "output_type": "stream",
     "text": [
      "6\n"
     ]
    },
    {
     "data": {
      "text/plain": [
       "True"
      ]
     },
     "execution_count": 7,
     "metadata": {},
     "output_type": "execute_result"
    }
   ],
   "source": [
    "# print a perfect number\n",
    "def perfect(n):\n",
    "    sum=0\n",
    "    for i in range(1,n):\n",
    "        if(n%i==0):\n",
    "            sum+=i\n",
    "    return sum==n\n",
    "perfect(int(input()))"
   ]
  },
  {
   "cell_type": "markdown",
   "metadata": {},
   "source": [
    "# SHAHITHA"
   ]
  },
  {
   "cell_type": "code",
   "execution_count": 3,
   "metadata": {},
   "outputs": [
    {
     "name": "stdout",
     "output_type": "stream",
     "text": [
      "100\n",
      "100 is odd and not a perfect number\n"
     ]
    }
   ],
   "source": [
    "a=int(input())\n",
    "if a%2==0:\n",
    "    sum=0\n",
    "    for i in range(1,a):\n",
    "        if(a%i==0):\n",
    "            sum+=i\n",
    "    if(sum==a):\n",
    "        print(a,\"is even and perfect number\")\n",
    "    else:\n",
    "        print(a,\"is odd and not a perfect number\")\n",
    "else:\n",
    "    def fact(num):\n",
    "        f=1\n",
    "        for i in range(1,num+1):\n",
    "            f*=i\n",
    "        return f\n",
    "    k=fact(a)\n",
    "    print(\"Odd number\\nThe factorial of {} is {}\".format(a,k))\n",
    "    print(len(str(k)))"
   ]
  },
  {
   "cell_type": "code",
   "execution_count": 4,
   "metadata": {},
   "outputs": [
    {
     "name": "stdout",
     "output_type": "stream",
     "text": [
      "100*1=100\n",
      "100*2=200\n",
      "100*3=300\n",
      "100*4=400\n",
      "100*5=500\n",
      "100*6=600\n",
      "100*7=700\n",
      "100*8=800\n",
      "100*9=900\n",
      "100*10=1000\n"
     ]
    }
   ],
   "source": [
    "# a=int(input())\n",
    "for i in range(1,11):\n",
    "    print(\"{}*{}={}\".format(a,i,a*i))"
   ]
  },
  {
   "cell_type": "code",
   "execution_count": 8,
   "metadata": {
    "scrolled": true
   },
   "outputs": [
    {
     "name": "stdout",
     "output_type": "stream",
     "text": [
      "5\n",
      "\n",
      "*** 1 TABLE ***\n",
      "\n",
      "1*1=1\n",
      "1*2=2\n",
      "1*3=3\n",
      "1*4=4\n",
      "1*5=5\n",
      "1*6=6\n",
      "1*7=7\n",
      "1*8=8\n",
      "1*9=9\n",
      "1*10=10\n",
      "\n",
      "*** 2 TABLE ***\n",
      "\n",
      "2*1=2\n",
      "2*2=4\n",
      "2*3=6\n",
      "2*4=8\n",
      "2*5=10\n",
      "2*6=12\n",
      "2*7=14\n",
      "2*8=16\n",
      "2*9=18\n",
      "2*10=20\n",
      "\n",
      "*** 3 TABLE ***\n",
      "\n",
      "3*1=3\n",
      "3*2=6\n",
      "3*3=9\n",
      "3*4=12\n",
      "3*5=15\n",
      "3*6=18\n",
      "3*7=21\n",
      "3*8=24\n",
      "3*9=27\n",
      "3*10=30\n",
      "\n",
      "*** 4 TABLE ***\n",
      "\n",
      "4*1=4\n",
      "4*2=8\n",
      "4*3=12\n",
      "4*4=16\n",
      "4*5=20\n",
      "4*6=24\n",
      "4*7=28\n",
      "4*8=32\n",
      "4*9=36\n",
      "4*10=40\n",
      "\n",
      "*** 5 TABLE ***\n",
      "\n",
      "5*1=5\n",
      "5*2=10\n",
      "5*3=15\n",
      "5*4=20\n",
      "5*5=25\n",
      "5*6=30\n",
      "5*7=35\n",
      "5*8=40\n",
      "5*9=45\n",
      "5*10=50\n"
     ]
    }
   ],
   "source": [
    "# PRINT ALL TABLES \n",
    "a=int(input())\n",
    "for j in range(1,a+1):\n",
    "    print(\"\\n*** {} TABLE ***\\n\".format(j))\n",
    "    for i in range(1,11):\n",
    "        print(\"{}*{}={}\".format(j,i,j*i))"
   ]
  },
  {
   "cell_type": "markdown",
   "metadata": {},
   "source": [
    "# Jump Statments\n",
    "* BREAK\n",
    "* CONTINUE"
   ]
  },
  {
   "cell_type": "code",
   "execution_count": 1,
   "metadata": {},
   "outputs": [
    {
     "name": "stdout",
     "output_type": "stream",
     "text": [
      "7\n",
      "1\n",
      "2\n",
      "3\n",
      "4\n"
     ]
    }
   ],
   "source": [
    "# BREAK EXAMPLE\n",
    "n=int(input())\n",
    "for i in range(1,n+1):\n",
    "    print(i)\n",
    "    if i ==4:\n",
    "         break"
   ]
  },
  {
   "cell_type": "code",
   "execution_count": 7,
   "metadata": {},
   "outputs": [
    {
     "name": "stdout",
     "output_type": "stream",
     "text": [
      "9\n",
      "2 3 4 5 6 7 8 9 "
     ]
    }
   ],
   "source": [
    "# CONTINUE EXAMPLE\n",
    "n=int(input())\n",
    "for i in range(1,n+1):\n",
    "    if i ==1:\n",
    "        continue\n",
    "    print(i,end=\" \")"
   ]
  },
  {
   "cell_type": "code",
   "execution_count": 9,
   "metadata": {},
   "outputs": [
    {
     "name": "stdout",
     "output_type": "stream",
     "text": [
      "Shahitha\n",
      "S h a h i t h a "
     ]
    }
   ],
   "source": [
    "# With String Values\n",
    "name=input()\n",
    "for i in name:\n",
    "    print(i,end=\" \")"
   ]
  },
  {
   "cell_type": "markdown",
   "metadata": {},
   "source": [
    "# Ascii Value\n",
    "* ord() --> PARAMETER IS STRING(CHARACTER)\n",
    "* chr() --> CALICULATING CHARACTER FROM ASCII VALUE --> PARAMETER(NUMBER)"
   ]
  },
  {
   "cell_type": "code",
   "execution_count": 10,
   "metadata": {},
   "outputs": [
    {
     "name": "stdout",
     "output_type": "stream",
     "text": [
      "65\n",
      "66\n",
      "49\n"
     ]
    }
   ],
   "source": [
    "# USING ORD()\n",
    "print(ord('A'))\n",
    "print(ord('B'))\n",
    "print(ord('1'))"
   ]
  },
  {
   "cell_type": "code",
   "execution_count": 15,
   "metadata": {},
   "outputs": [
    {
     "name": "stdout",
     "output_type": "stream",
     "text": [
      "E\n",
      "F\n",
      "\u0001\n"
     ]
    }
   ],
   "source": [
    "# USING CHR()\n",
    "print(chr(69))\n",
    "print(chr(70))\n",
    "print(chr(1))"
   ]
  },
  {
   "cell_type": "code",
   "execution_count": 17,
   "metadata": {},
   "outputs": [
    {
     "name": "stdout",
     "output_type": "stream",
     "text": [
      "SHAHITHA\n",
      "83\n",
      "72\n",
      "65\n",
      "72\n",
      "73\n",
      "84\n",
      "72\n",
      "65\n"
     ]
    }
   ],
   "source": [
    "# PRINT ASCII VALUE OF A CHARACTER FROM GIVEN STRING\n",
    "name =input()\n",
    "for i in name:\n",
    "    print(ord(i))"
   ]
  },
  {
   "cell_type": "code",
   "execution_count": 26,
   "metadata": {},
   "outputs": [
    {
     "name": "stdout",
     "output_type": "stream",
     "text": [
      "SHAHITHA\n",
      "72\n",
      "72\n",
      "84\n",
      "72\n"
     ]
    }
   ],
   "source": [
    "name =input()\n",
    "for i in name:\n",
    "    if ord(i)%2==0:\n",
    "         print(ord(i))"
   ]
  },
  {
   "cell_type": "code",
   "execution_count": 28,
   "metadata": {},
   "outputs": [
    {
     "name": "stdout",
     "output_type": "stream",
     "text": [
      "SHAHITHA\n",
      "H\n",
      "H\n",
      "T\n",
      "H\n"
     ]
    }
   ],
   "source": [
    "name =input()\n",
    "for i in name:\n",
    "    if ord(i)%2==0:\n",
    "         print(i)"
   ]
  },
  {
   "cell_type": "code",
   "execution_count": 10,
   "metadata": {},
   "outputs": [
    {
     "name": "stdout",
     "output_type": "stream",
     "text": [
      "shahi\n",
      "\u0005 h \u0004 h \u0005 "
     ]
    }
   ],
   "source": [
    "for i in input():\n",
    "    if(ord(i)%2==0):\n",
    "        print(i,end=' ')\n",
    "    else:\n",
    "        k=(2*ord(i))//40\n",
    "        print(chr(k),end=\" \")"
   ]
  },
  {
   "cell_type": "code",
   "execution_count": 11,
   "metadata": {},
   "outputs": [
    {
     "name": "stdout",
     "output_type": "stream",
     "text": [
      "shahi\n",
      "ĥ h Ñ h õ "
     ]
    }
   ],
   "source": [
    "for i in input():\n",
    "    if(ord(i)%2==0):\n",
    "        print(i,end=' ')\n",
    "    else:\n",
    "        k=(2*ord(i))*ord(i)/90\n",
    "        k1=int(k)\n",
    "        print(chr(k1),end=\" \")"
   ]
  },
  {
   "cell_type": "markdown",
   "metadata": {},
   "source": [
    "# WHILE LOOP\n",
    "##### SYNTAX OF WHILE\n",
    "            * WHILE CONDITION:\n",
    "                BODY OF WHILE LOOP"
   ]
  },
  {
   "cell_type": "code",
   "execution_count": 12,
   "metadata": {},
   "outputs": [
    {
     "name": "stdout",
     "output_type": "stream",
     "text": [
      "1 2 3 4 5 6 7 8 9 10 "
     ]
    }
   ],
   "source": [
    "#WHILE EXAMPLE\n",
    "i=1\n",
    "while i<=10:\n",
    "    print(i,end=\" \")\n",
    "    i=i+1"
   ]
  },
  {
   "cell_type": "code",
   "execution_count": 15,
   "metadata": {},
   "outputs": [
    {
     "name": "stdout",
     "output_type": "stream",
     "text": [
      "2 4 6 8 10 "
     ]
    }
   ],
   "source": [
    "i=1\n",
    "while i<=10:\n",
    "    if i%2==0:\n",
    "        print(i,end=\" \")\n",
    "    i=i+1"
   ]
  },
  {
   "cell_type": "markdown",
   "metadata": {},
   "source": [
    "### FUNCTIONS\n",
    "* BLOCK OF STATEMENTS TO PERFORM PARTICULAR TASK IS CALLED FUMCTION\n",
    "* BLOCK OF STATEMENTS WILL EXECUTE AND RETURN THE RESULT WHEN FUNCTION CALLED \n",
    "##### FUNCTIONS CONTAIN\n",
    "1. FUNCTION DECLARATION\n",
    "2. BODY OF FUNCTION\n",
    "3. FUNCTION CALLING\n",
    "#### TYPES OF FUNCTIONS\\\n",
    "1. USER DEFINE\n",
    "    * IT IS A FUNCTION WHICH IS DEFINED AS USER TO PERFORM PARTICULAR TASK\n",
    "    1. REQUIRED ARGUMENT\n",
    "    2. DEFAULT ARGUMENT\n",
    "    3. KEYWORD ARGUMENT\n",
    "    4. VARIABLE LENGTH\n",
    "2. BUILT_IN\n",
    "    1. MAX -->CALICULATE MAXIMUM VALUE\n",
    "    2. MIN -->CALICULATE MINIMUM VALUE\n",
    "    3. LEN -->LENGTH OF THE GIVEN INPUT\n",
    "    4. ORD \n",
    "    5. SUM -->CALICULATE SUM\n",
    "    6. CHR \n",
    "    7. ABS -->ABSOLUTE VALUE"
   ]
  },
  {
   "cell_type": "markdown",
   "metadata": {},
   "source": [
    "### SYNTAX OF FUNCTION\n",
    "* def function_name(arg): --> FUNCTION DECLARATION\n",
    "*     body of function -->BODY OF FUNCTION\n",
    "* function_name() --> FUNCTION CALLING"
   ]
  },
  {
   "cell_type": "code",
   "execution_count": 4,
   "metadata": {},
   "outputs": [
    {
     "name": "stdout",
     "output_type": "stream",
     "text": [
      "Shahitha\n",
      "Welcome To Vignan's Lara Institute Of Technology And Sciences Shahitha\n"
     ]
    }
   ],
   "source": [
    "name=input()\n",
    "def sample1():\n",
    "    print(\"Welcome To Vignan's Lara Institute Of Technology And Sciences\",name)\n",
    "sample1()"
   ]
  },
  {
   "cell_type": "code",
   "execution_count": 22,
   "metadata": {},
   "outputs": [
    {
     "name": "stdout",
     "output_type": "stream",
     "text": [
      " 7 is an Odd number\n",
      "The factorial of the number is 5040\n",
      " 5 is an Odd number\n",
      "The factorial of the number is 120\n",
      "6 is even and perfect number\n"
     ]
    }
   ],
   "source": [
    "def function(a):\n",
    "    if a%2==0:\n",
    "        sum=0\n",
    "        for i in range(1,a):\n",
    "            if(a%i==0):\n",
    "                sum+=i\n",
    "        if(sum==a):\n",
    "            print(a,\"is even and perfect number\")\n",
    "        else:\n",
    "            print(a,\"is odd and not a perfect number\")\n",
    "    else:\n",
    "        def fact(num):\n",
    "            f=1\n",
    "            for i in range(1,num+1):\n",
    "                f*=i\n",
    "            return f\n",
    "        k=fact(a)\n",
    "        print(\" {} is an Odd number\\nThe factorial of the number is {}\".format(a,k))\n",
    "function(7)\n",
    "function(5)\n",
    "function(6)"
   ]
  },
  {
   "cell_type": "code",
   "execution_count": 32,
   "metadata": {},
   "outputs": [
    {
     "name": "stdout",
     "output_type": "stream",
     "text": [
      "8179107648\n",
      "Name is: shahi\n",
      "Organization is: vignan\n",
      "Phone number is: 8179107648\n"
     ]
    }
   ],
   "source": [
    "# REQUIRED \n",
    "phn=int(input())\n",
    "def Required(name,org,phn):\n",
    "    print(\"Name is:\",name)\n",
    "    print(\"Organization is:\",org)\n",
    "    print(\"Phone number is:\",phn)\n",
    "Required('shahi','vignan',phn)"
   ]
  },
  {
   "cell_type": "code",
   "execution_count": null,
   "metadata": {},
   "outputs": [],
   "source": [
    "# default arg\n",
    "def Default():\n",
    "    "
   ]
  },
  {
   "cell_type": "code",
   "execution_count": null,
   "metadata": {},
   "outputs": [],
   "source": []
  },
  {
   "cell_type": "code",
   "execution_count": null,
   "metadata": {},
   "outputs": [],
   "source": []
  },
  {
   "cell_type": "code",
   "execution_count": null,
   "metadata": {},
   "outputs": [],
   "source": []
  },
  {
   "cell_type": "code",
   "execution_count": null,
   "metadata": {},
   "outputs": [],
   "source": []
  },
  {
   "cell_type": "code",
   "execution_count": null,
   "metadata": {},
   "outputs": [],
   "source": []
  },
  {
   "cell_type": "code",
   "execution_count": null,
   "metadata": {},
   "outputs": [],
   "source": []
  },
  {
   "cell_type": "code",
   "execution_count": null,
   "metadata": {},
   "outputs": [],
   "source": []
  },
  {
   "cell_type": "code",
   "execution_count": null,
   "metadata": {},
   "outputs": [],
   "source": []
  },
  {
   "cell_type": "code",
   "execution_count": null,
   "metadata": {},
   "outputs": [],
   "source": []
  },
  {
   "cell_type": "code",
   "execution_count": null,
   "metadata": {},
   "outputs": [],
   "source": []
  },
  {
   "cell_type": "code",
   "execution_count": null,
   "metadata": {},
   "outputs": [],
   "source": []
  },
  {
   "cell_type": "code",
   "execution_count": null,
   "metadata": {},
   "outputs": [],
   "source": []
  }
 ],
 "metadata": {
  "kernelspec": {
   "display_name": "Python 3",
   "language": "python",
   "name": "python3"
  },
  "language_info": {
   "codemirror_mode": {
    "name": "ipython",
    "version": 3
   },
   "file_extension": ".py",
   "mimetype": "text/x-python",
   "name": "python",
   "nbconvert_exporter": "python",
   "pygments_lexer": "ipython3",
   "version": "3.8.5"
  }
 },
 "nbformat": 4,
 "nbformat_minor": 4
}
