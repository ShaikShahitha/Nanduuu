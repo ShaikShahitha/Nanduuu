{
 "cells": [
  {
   "cell_type": "markdown",
   "metadata": {},
   "source": [
    "### GIT HUB COMMANDS\n",
    "* **git --version**\n",
    "    * IT WILL PRINT VERSION OF OUR SYSTEM\n",
    "* **git config user.name**\n",
    "    * IT WILL PRINT THE USER NAME BUT IF ITS NOT UR SYSTEM IT WONT PRINT USERNAME TO GIVE UR USERNAME THE FOLLOWING COMMAND IS USED\n",
    "* **git config --global user.name \"ShaikShahitha\"\n",
    "    * IT IS USED TO GET THE USER NAME\n",
    "* **git config user.email**\n",
    "    * IT IS USED TO PRINT THE EMAIL ID GIVEN IN GIT HUB ACCOUNT BUT HERE IT WONT PRINT.\n",
    "* **git config --global user.email shaikshahitha.19.26@gmail.com\n",
    "    * IT IS USED TO ADD A MAIL \n",
    "*"
   ]
  },
  {
   "cell_type": "code",
   "execution_count": null,
   "metadata": {},
   "outputs": [],
   "source": []
  },
  {
   "cell_type": "code",
   "execution_count": null,
   "metadata": {},
   "outputs": [],
   "source": []
  }
 ],
 "metadata": {
  "kernelspec": {
   "display_name": "Python 3",
   "language": "python",
   "name": "python3"
  },
  "language_info": {
   "codemirror_mode": {
    "name": "ipython",
    "version": 3
   },
   "file_extension": ".py",
   "mimetype": "text/x-python",
   "name": "python",
   "nbconvert_exporter": "python",
   "pygments_lexer": "ipython3",
   "version": "3.8.5"
  }
 },
 "nbformat": 4,
 "nbformat_minor": 4
}
